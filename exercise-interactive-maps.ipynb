{
 "cells": [
  {
   "cell_type": "code",
   "execution_count": null,
   "metadata": {},
   "outputs": [],
   "source": [
    "#!/usr/bin/env python\n",
    "# coding: utf-8"
   ]
  },
  {
   "cell_type": "markdown",
   "metadata": {},
   "source": [
    "------------------------------------------------------------------\n",
    " # Geospatial Data Exercise\n",
    "------------------------------------------------------------------\n",
    "\n",
    " This is an exercise notebook for the third lesson of the kaggle course\n",
    " [\"Geospatial Analysis\"](https://www.kaggle.com/learn/geospatial-analysis)\n",
    " offered by Alexis Cook and Jessica Li. The main goal of the lesson is\n",
    " to get used to __Interactive Maps__. We will learn how to use `folium`\n",
    " with the following functions.\n",
    "\n",
    " * Map\n",
    " * Circle (= bubble map)\n",
    " * HeatMaps\n",
    " * Choropleth"
   ]
  },
  {
   "cell_type": "markdown",
   "metadata": {},
   "source": [
    "Here 'interactive' means\n",
    "\n",
    " - zoom in  / zoom out\n",
    " - move (drag the map)\n",
    " - tooltip (information shows up when the pointer is on a marker)\n",
    " - popup (information shows up when a marker is clicked)"
   ]
  },
  {
   "cell_type": "markdown",
   "metadata": {},
   "source": [
    "## 1. Task\n",
    "\n",
    " Visualize how the largest cities in Japan are vulnerable to the\n",
    " threat of big earthquakes in the future."
   ]
  },
  {
   "cell_type": "markdown",
   "metadata": {},
   "source": [
    "## 2. Data\n",
    "\n",
    " 1. Known plate-boundaries.\n",
    " 2. Historical earthquakes in 1970-2014.\n",
    " 3. Borders (Shapely Polygon) of Japanese prefectures.\n",
    " 4. Populations and areas in Japanese prefectures."
   ]
  },
  {
   "cell_type": "markdown",
   "metadata": {},
   "source": [
    "## 3. Notebook\n",
    "\n",
    " Import packages."
   ]
  },
  {
   "cell_type": "code",
   "execution_count": null,
   "metadata": {},
   "outputs": [],
   "source": [
    "from kaggle_geospatial.kgsp import *\n",
    "from folium.plugins import HeatMap\n",
    "from folium import Choropleth, Circle\n",
    "import folium\n",
    "import pandas as pd\n",
    "import geopandas as gpd\n",
    "import numpy as np\n",
    "from pathlib import Path\n",
    "import os\n",
    "import webbrowser\n",
    "import zipfile\n",
    "import plotly.graph_objs as go\n",
    "from plotly.subplots import make_subplots"
   ]
  },
  {
   "cell_type": "markdown",
   "metadata": {},
   "source": [
    "Set up some directories."
   ]
  },
  {
   "cell_type": "code",
   "execution_count": null,
   "metadata": {},
   "outputs": [],
   "source": [
    "CWD = '/Users/meg/git6/earthquake/'\n",
    "DATA_DIR = '../input/geospatial-learn-course-data/'\n",
    "KAGGLE_DIR = 'alexisbcook/geospatial-learn-course-data'\n",
    "GEO_DIR = 'geospatial-learn-course-data'\n",
    "\n",
    "set_cwd(CWD)\n",
    "set_data_dir(DATA_DIR, KAGGLE_DIR, GEO_DIR, CWD)\n",
    "show_whole_dataframe(True)"
   ]
  },
  {
   "cell_type": "markdown",
   "metadata": {},
   "source": [
    "Read plate data. Somehow the coordinate in 'geometry' of\n",
    " `plate_boundaries` is (longitude, latitude), instead of (latitude, longitude)\n",
    " which is the standard of EPSG:4326. Swap them, and store them\n",
    " to a new column `coordinates'."
   ]
  },
  {
   "cell_type": "code",
   "execution_count": null,
   "metadata": {},
   "outputs": [],
   "source": [
    "plate_boundaries_dir = DATA_DIR + \"Plate_Boundaries/Plate_Boundaries/\"\n",
    "plate_boundaries = gpd.read_file(\n",
    "    plate_boundaries_dir + \"Plate_Boundaries.shp\")\n",
    "\n",
    "plate_boundaries['coordinates'] = plate_boundaries.apply(\n",
    "    lambda x: [(b, a) for (a, b) in list(x.geometry.coords)], axis=1)\n",
    "\n",
    "print(plate_boundaries.info())\n",
    "print(plate_boundaries.crs)\n",
    "plate_boundaries.head(3)"
   ]
  },
  {
   "cell_type": "markdown",
   "metadata": {},
   "source": [
    "Read the record of the historical earthquakes."
   ]
  },
  {
   "cell_type": "code",
   "execution_count": null,
   "metadata": {},
   "outputs": [],
   "source": [
    "earthquakes = pd.read_csv(DATA_DIR + \"earthquakes1970-2014.csv\",\n",
    "                          parse_dates=[\"DateTime\"])\n",
    "print(earthquakes.info())\n",
    "earthquakes.head(3)"
   ]
  },
  {
   "cell_type": "markdown",
   "metadata": {},
   "source": [
    "Read the prefectural boundaries."
   ]
  },
  {
   "cell_type": "code",
   "execution_count": null,
   "metadata": {},
   "outputs": [],
   "source": [
    "prefectures_dir = DATA_DIR + \"japan-prefecture-boundaries/japan-prefecture-boundaries/\"\n",
    "prefectures = gpd.read_file(\n",
    "    prefectures_dir + \"japan-prefecture-boundaries.shp\")\n",
    "\n",
    "prefectures.set_index('prefecture', inplace=True)\n",
    "\n",
    "print(prefectures.info())\n",
    "prefectures.head(3)"
   ]
  },
  {
   "cell_type": "markdown",
   "metadata": {},
   "source": [
    "Read the population and the areas of each prefecture."
   ]
  },
  {
   "cell_type": "code",
   "execution_count": null,
   "metadata": {},
   "outputs": [],
   "source": [
    "population = pd.read_csv(DATA_DIR + \"japan-prefecture-population.csv\")\n",
    "population.set_index('prefecture', inplace=True)\n",
    "\n",
    "\n",
    "\n",
    "\n",
    "\n",
    "# ========================================"
   ]
  },
  {
   "cell_type": "markdown",
   "metadata": {},
   "source": [
    "Visualize the plate boundaries near Japan.\n",
    " Overlay a heatmap of the historical earthquakes."
   ]
  },
  {
   "cell_type": "code",
   "execution_count": null,
   "metadata": {},
   "outputs": [],
   "source": [
    "x = np.array([p.centroid.x for p in prefectures['geometry']]).mean()\n",
    "y = np.array([p.centroid.y for p in prefectures['geometry']]).mean()\n",
    "center = [y, x]\n",
    "zoom = 7\n",
    "\n",
    "# tiles = 'openstreetmap'\n",
    "tiles = 'cartodbpositron'"
   ]
  },
  {
   "cell_type": "code",
   "execution_count": null,
   "metadata": {},
   "outputs": [],
   "source": [
    "m_1 = folium.Map(location=center, tiles=tiles, zoom_start=zoom)\n",
    "dump = [folium.PolyLine(\n",
    "    locations=p, weight=12, color='mediumvioletred').add_to(m_1)\n",
    "    for p in plate_boundaries['coordinates']]\n",
    "\n",
    "HeatMap(data=earthquakes[['Latitude', 'Longitude']],\n",
    "        radius=30).add_to(m_1)"
   ]
  },
  {
   "cell_type": "markdown",
   "metadata": {},
   "source": [
    "Show it on the notebook and the browser window."
   ]
  },
  {
   "cell_type": "code",
   "execution_count": null,
   "metadata": {},
   "outputs": [],
   "source": [
    "embed_map(m_1, './html/m_1.html')"
   ]
  },
  {
   "cell_type": "code",
   "execution_count": null,
   "metadata": {},
   "outputs": [],
   "source": [
    "show_on_browser(m_1, CWD + './html/m_1b.html')"
   ]
  },
  {
   "cell_type": "markdown",
   "metadata": {},
   "source": [
    "Earthquakes often happens about 100-300 km west\n",
    " of the plate boundaries. Northern half of Japan,\n",
    " with Tokyo on the southern-most edge, \n",
    " is particularly vulnerable to the future earthquakes."
   ]
  },
  {
   "cell_type": "code",
   "execution_count": null,
   "metadata": {},
   "outputs": [],
   "source": [
    "#\n",
    "# ======================================================="
   ]
  },
  {
   "cell_type": "markdown",
   "metadata": {},
   "source": [
    "Calculate the area (in square kilometers) of each prefecture."
   ]
  },
  {
   "cell_type": "code",
   "execution_count": null,
   "metadata": {},
   "outputs": [],
   "source": [
    "area_sqkm = pd.Series(prefectures['geometry'].to_crs(\n",
    "    epsg=32654).area / 10**6, name='area_sqkm')"
   ]
  },
  {
   "cell_type": "markdown",
   "metadata": {},
   "source": [
    "Add the population density (per square kilometer) for each prefecture.\n",
    " What are the most densely populated prefectures?"
   ]
  },
  {
   "cell_type": "code",
   "execution_count": null,
   "metadata": {},
   "outputs": [],
   "source": [
    "stats['density'] = stats['population'] / stats['area_sqkm']\n",
    "stats['log10_density'] = np.log(stats['density'])"
   ]
  },
  {
   "cell_type": "markdown",
   "metadata": {},
   "source": [
    "What are the most populous prefectures?"
   ]
  },
  {
   "cell_type": "code",
   "execution_count": null,
   "metadata": {},
   "outputs": [],
   "source": [
    "stats = population.join(area_sqkm)\n",
    "stats.sort_values('population').tail(5)"
   ]
  },
  {
   "cell_type": "markdown",
   "metadata": {},
   "source": [
    "Use `plotly` to see the populations and the population densities \n",
    " of the Japanese prefectures."
   ]
  },
  {
   "cell_type": "code",
   "execution_count": null,
   "metadata": {},
   "outputs": [],
   "source": [
    "n_rows = 1\n",
    "n_cols = 2\n",
    "fig = make_subplots(rows=n_rows, cols=n_cols,\n",
    "                    vertical_spacing=0.05,\n",
    "                    horizontal_spacing=0.05,\n",
    "                    subplot_titles=['Populations in Japanese Prefectures',\n",
    "                                    'Densities in Japanese Prefectures'])\n",
    "\n",
    "trace1 = go.Bar(y=stats.sort_values('density').index,\n",
    "                x=stats.sort_values('density')['population'],\n",
    "                marker=dict(color='teal'),\n",
    "                orientation='h',\n",
    "                xaxis='x',\n",
    "                yaxis='y')\n",
    "\n",
    "trace2 = go.Bar(y=stats.sort_values('density').index,\n",
    "                x=stats.sort_values('density')['density'],\n",
    "                marker=dict(color='coral'),\n",
    "                orientation='h',\n",
    "                xaxis='x2',\n",
    "                yaxis='y2')\n",
    "\n",
    "data = [trace1, trace2]\n",
    "\n",
    "layout = go.Layout(height=512 * 4, width=1024,\n",
    "                   font=dict(size=20),\n",
    "                   showlegend=False)\n",
    "\n",
    "layout = fig.layout.update(layout)\n",
    "fig = go.Figure(data=data, layout=layout)"
   ]
  },
  {
   "cell_type": "markdown",
   "metadata": {},
   "source": [
    "Show it on the notebook and the browser window."
   ]
  },
  {
   "cell_type": "code",
   "execution_count": null,
   "metadata": {},
   "outputs": [],
   "source": [
    "embed_plot(fig, './html/p_1.html')"
   ]
  },
  {
   "cell_type": "code",
   "execution_count": null,
   "metadata": {},
   "outputs": [],
   "source": [
    "fig.show()"
   ]
  },
  {
   "cell_type": "code",
   "execution_count": null,
   "metadata": {},
   "outputs": [],
   "source": [
    "# Show highly populated prefectures in Choropleth.\n",
    "\n",
    "m_2 = folium.Map(location=center, tiles=tiles, zoom_start=zoom)\n",
    "Choropleth(geo_data=prefectures.__geo_interface__,\n",
    "           data=stats['density'],\n",
    "           #           data=stats,\n",
    "           columns=['density'],\n",
    "           key_on='feature.id',\n",
    "           color='navy',\n",
    "           fill_color='YlGnBu',\n",
    "           fill_opacity=0.8\n",
    "           ).add_to(m_2)"
   ]
  },
  {
   "cell_type": "markdown",
   "metadata": {},
   "source": [
    "Show it on the notebook and the browser window."
   ]
  },
  {
   "cell_type": "code",
   "execution_count": null,
   "metadata": {},
   "outputs": [],
   "source": [
    "embed_map(m_2, './html/m_2.html')"
   ]
  },
  {
   "cell_type": "code",
   "execution_count": null,
   "metadata": {},
   "outputs": [],
   "source": [
    "show_on_browser(m_2, CWD + './html/m_2b.html')"
   ]
  },
  {
   "cell_type": "code",
   "execution_count": null,
   "metadata": {},
   "outputs": [],
   "source": [
    "# Show the historical earthquake record in a bubble map.\n",
    "\n",
    "m_3 = folium.Map(location=center, tiles=tiles, zoom_start=zoom)\n",
    "\n",
    "dump = [folium.PolyLine(\n",
    "    locations=p, weight=12, color='mediumvioletred').add_to(m_3)\n",
    "    for p in plate_boundaries['coordinates']]\n",
    "\n",
    "Choropleth(geo_data=prefectures.__geo_interface__,\n",
    "           data=stats['log10_density'],\n",
    "           columns=['log_density'],\n",
    "           key_on='feature.id',\n",
    "           color='navy',\n",
    "           fill_color='YlGnBu',\n",
    "           fill_opacity=0.8\n",
    "           ).add_to(m_3)\n",
    "\n",
    "dump = [Circle([r['Latitude'], r['Longitude']],\n",
    "               radius=4 ** r['Magnitude'],\n",
    "               color='',\n",
    "               fill_color='coral',\n",
    "               fill_opacity=0.5,\n",
    "               fill=True).add_to(m_3)\n",
    "        for i, r in earthquakes.iterrows()]"
   ]
  },
  {
   "cell_type": "markdown",
   "metadata": {},
   "source": [
    "Show it on the notebook and the browser window."
   ]
  },
  {
   "cell_type": "code",
   "execution_count": null,
   "metadata": {},
   "outputs": [],
   "source": [
    "embed_map(m_3, './html/m_3.html')"
   ]
  },
  {
   "cell_type": "code",
   "execution_count": null,
   "metadata": {},
   "outputs": [],
   "source": [
    "show_on_browser(m_3, CWD + './html/m_3b.html')"
   ]
  },
  {
   "cell_type": "markdown",
   "metadata": {},
   "source": [
    "## 4. Conclusion\n",
    "\n",
    " If we limit ourselves only to the largest earthquakes\n",
    " that leads to potential catastrophe, the most vulnerable\n",
    " area in Japan is the northern Kanto area near Tokyo, \n",
    " where the most densely populated area overlaps with the\n",
    " south edge of the plate boundaries in the northern Japan.\n",
    "\n",
    " The prefectures need to invest to prepare future earthquakes are\n",
    "\n",
    " - Ibaraki\n",
    " - Chiba\n",
    " - Miyagi\n",
    " - Gunma\n",
    " - Tokyo\n",
    " - Kanagawa\n",
    "\n",
    " in this order."
   ]
  },
  {
   "cell_type": "markdown",
   "metadata": {},
   "source": [
    "END"
   ]
  }
 ],
 "metadata": {},
 "nbformat": 4,
 "nbformat_minor": 4
}
